{
 "cells": [
  {
   "cell_type": "code",
   "execution_count": 1,
   "metadata": {},
   "outputs": [],
   "source": [
    "import numpy as np\n",
    "import matplotlib.pyplot as plt\n"
   ]
  },
  {
   "cell_type": "code",
   "execution_count": null,
   "metadata": {},
   "outputs": [],
   "source": [
    "# for an FIR system given the lattice reflection coefficients Kis. The code needs to ask\n",
    "# for an input M, and K1, K2, . . . , KM−1. The code should output h[n] as an array\n",
    "# of length M + 1.\n"
   ]
  },
  {
   "cell_type": "code",
   "execution_count": 35,
   "metadata": {},
   "outputs": [],
   "source": [
    "#function to dot product two np arr\n",
    "def dot_product(a, b):\n",
    "    return a*b\n",
    "\n",
    "# function to do element wise sum of np arr and making sure if size are not equal, then pad with zeros\n",
    "def sum_arr(a, b):\n",
    "    if len(a) > len(b):\n",
    "        b = np.pad(b, (0, len(a) - len(b)), 'constant')\n",
    "    elif len(b) > len(a):\n",
    "        a = np.pad(a, (0, len(b) - len(a)), 'constant')\n",
    "    return a + b"
   ]
  },
  {
   "cell_type": "code",
   "execution_count": 36,
   "metadata": {},
   "outputs": [],
   "source": [
    "# function to shift np arr by n also keep the last shifted element\n",
    "def shift_arr(a, n):\n",
    "    if n == 0:\n",
    "        return a\n",
    "    else:\n",
    "        return np.pad(a, (n, 0), 'constant')[:-n]\n"
   ]
  },
  {
   "cell_type": "code",
   "execution_count": 37,
   "metadata": {},
   "outputs": [],
   "source": [
    "# reverse the given array for given n form 0 to n\n",
    "def reverse_arr(a, n):\n",
    "    temp = a[:n]\n",
    "    temp = temp[::-1]\n",
    "    a[:n] = temp\n",
    "    return a\n"
   ]
  },
  {
   "cell_type": "code",
   "execution_count": 24,
   "metadata": {},
   "outputs": [
    {
     "data": {
      "text/plain": [
       "array([2, 1, 3, 4, 5])"
      ]
     },
     "execution_count": 24,
     "metadata": {},
     "output_type": "execute_result"
    }
   ],
   "source": [
    "a = np.array([1, 2, 3, 4, 5])\n",
    "reverse_arr(a, 2)"
   ]
  },
  {
   "cell_type": "code",
   "execution_count": 39,
   "metadata": {},
   "outputs": [
    {
     "name": "stdout",
     "output_type": "stream",
     "text": [
      "Impulse response (h[n]): [ 1.   2.5 -2.5 -1. ]\n"
     ]
    }
   ],
   "source": [
    "def lattice_to_fir(M, K):\n",
    "    # making array of ones\n",
    "    # h = np.one(M)\n",
    "    a = np.zeros(M)\n",
    "    b = np.zeros(M)\n",
    "    a[0] = 1;\n",
    "    b[0] = 1;\n",
    "    \n",
    "    for m in range(1,M):\n",
    "        temp = b*K[m-1] # dot product of K and b\n",
    "        temp = shift_arr(temp.copy(), 1) # shift by 1\n",
    "        a = sum_arr(a.copy(), temp.copy())\n",
    "        b = reverse_arr(a.copy(), m+1)\n",
    "\n",
    "\n",
    "        \n",
    "    \n",
    "    return a\n",
    "\n",
    "# Input M and K coefficients\n",
    "M = int(input(\"Enter the order (M) of the filter: \"))\n",
    "K = []\n",
    "\n",
    "for i in range(M - 1):\n",
    "    K_i = float(input(f\"Enter K{i+1}: \"))\n",
    "    K.append(K_i)\n",
    "\n",
    "# Convert lattice coefficients to FIR filter coefficients\n",
    "h = lattice_to_fir(M, K)\n",
    "\n",
    "# Output the FIR filter coefficients\n",
    "print(\"Impulse response (h[n]):\", h)"
   ]
  }
 ],
 "metadata": {
  "kernelspec": {
   "display_name": "Python 3",
   "language": "python",
   "name": "python3"
  },
  "language_info": {
   "codemirror_mode": {
    "name": "ipython",
    "version": 3
   },
   "file_extension": ".py",
   "mimetype": "text/x-python",
   "name": "python",
   "nbconvert_exporter": "python",
   "pygments_lexer": "ipython3",
   "version": "3.10.13"
  },
  "orig_nbformat": 4
 },
 "nbformat": 4,
 "nbformat_minor": 2
}
